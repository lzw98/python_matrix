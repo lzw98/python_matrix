{
 "cells": [
  {
   "cell_type": "markdown",
   "metadata": {},
   "source": [
    "## 互补子空间\n",
    "- 在$R^3$空间中，我们选取其中三个线性无关的向量$a_1,a_2,a_3$构成一组基，向量b在各个基向量上的投影分别 为$p_1,p_2,p_3$，此时我们把向量$a_1,a_2$看作是一个二维子空间中的基向量，那么向量b在这个平面上的投影就可以表示为往向量$a_1,a_2$上投影和向量之和$p_1+p_2$,再考虑下$p_3$就能构建出整个b向量的投影。\n",
    "\n",
    "- 因此，在$R^3$空间中，基向量$a_1$和$a_2$张成的二维子空间和由向量$a_3$构成的一维子空间之间是互补的关系。概况的说，互补的子空间一方面由不同的基向量所张成，另一方面他们的维数之和为整个R\"空间的维数。空间中的任意一个向量b，其在互补子空间上的投影向量之和，就是向量自身。\n",
    "\n",
    "## 正交互补子空间\n",
    "- 矩阵与另一个矩阵的所有列向量的内积为零，即原矩阵的零化空间\n",
    "\n",
    "## 处理无解方程组的近似解\n",
    "当线性方程组无解时，其近似解的较优结果是该向量到该矩阵的投影，因此我们需要套用公式\n",
    "$$\\hat{x}=\\left(A^{T} A\\right)^{-1} A^{T} b$$\n",
    "\n",
    "下面使用python对一个例子进行实现"
   ]
  },
  {
   "cell_type": "code",
   "execution_count": 1,
   "metadata": {
    "tags": []
   },
   "outputs": [
    {
     "output_type": "stream",
     "name": "stdout",
     "text": "[[0.83870968]\n [1.87096774]]\n"
    }
   ],
   "source": [
    "import numpy as np\n",
    "from scipy import linalg\n",
    "A = np.array([[2,1],\n",
    "[1,2],\n",
    "[1,4]])\n",
    "b = np.array([[4],[3],[9]])\n",
    "A_T_A = np.dot(A.T,A)\n",
    "x = np.dot(np.dot(linalg.inv(A_T_A),A.T),b)\n",
    "print(x)"
   ]
  },
  {
   "cell_type": "markdown",
   "metadata": {},
   "source": [
    "显然这也是最小二乘的结果"
   ]
  }
 ],
 "metadata": {
  "language_info": {
   "codemirror_mode": {
    "name": "ipython",
    "version": 3
   },
   "file_extension": ".py",
   "mimetype": "text/x-python",
   "name": "python",
   "nbconvert_exporter": "python",
   "pygments_lexer": "ipython3",
   "version": 3
  },
  "orig_nbformat": 2,
  "kernelspec": {
   "name": "python_defaultSpec_1594783116852",
   "display_name": "Python 3.7.4 64-bit ('base': conda)"
  }
 },
 "nbformat": 4,
 "nbformat_minor": 2
}