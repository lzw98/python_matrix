{
 "cells": [
  {
   "cell_type": "markdown",
   "metadata": {},
   "source": [
    "向量的基底变换\n",
    "- 我们使用二阶方阵 $\\left[\\begin{array}{ll}a & b \\\\ c & d\\end{array}\\right]$ \n",
    "与二维向量的乘法来说明\n",
    "- 二维列向量 $\\left[\\begin{array}{l}\\mathrm{x} \\\\ \\mathrm{y}\\end{array}\\right]$的坐标x和y,向量的坐标需要依托于基底的选取，向量坐标在明确了基底的前提下才有实际意义，而这个列向量，我们说他坐标是x和y，就是默认其基底为$\\left[\\begin{array}{l}1 \\\\ 0\\end{array}\\right],\\left[\\begin{array}{l}0 \\\\ 1\\end{array}\\right]$\n",
    "- 利用矩阵乘法有：$\\left[\\begin{array}{ll}a & b \\\\ c & d\\end{array}\\right]\\left[\\begin{array}{l}x \\\\ y\\end{array}\\right]=\\left[\\begin{array}{ll}a & b \\\\ c & d\\end{array}\\right]\\left(x\\left[\\begin{array}{l}1 \\\\ 0\\end{array}\\right]+y\\left[\\begin{array}{l}0 \\\\ 1\\end{array}\\right]\\right)=x\\left[\\begin{array}{ll}a & b \\\\ c & d\\end{array}\\right]\\left[\\begin{array}{l}1 \\\\ 0\\end{array}\\right]+y\\left[\\begin{array}{ll}a & b \\\\ c & d\\end{array}\\right]\\left[\\begin{array}{l}0 \\\\ 1\\end{array}\\right]=x\\left[\\begin{array}{l}a \\\\ c\\end{array}\\right]+y\\left[\\begin{array}{l}b \\\\ d\\end{array}\\right]$\n"
   ]
  },
  {
   "cell_type": "markdown",
   "metadata": {},
   "source": [
    "- 在这个过程中，基底发生了转变，但是是其坐标并没有发生变化。"
   ]
  }
 ],
 "metadata": {
  "language_info": {
   "codemirror_mode": {
    "name": "ipython",
    "version": 3
   },
   "file_extension": ".py",
   "mimetype": "text/x-python",
   "name": "python",
   "nbconvert_exporter": "python",
   "pygments_lexer": "ipython3",
   "version": 3
  },
  "orig_nbformat": 2
 },
 "nbformat": 4,
 "nbformat_minor": 2
}