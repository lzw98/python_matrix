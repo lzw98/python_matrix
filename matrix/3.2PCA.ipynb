{
 "cells": [
  {
   "cell_type": "markdown",
   "metadata": {},
   "source": [
    "### PCA分析的思路\n",
    "一是，要考虑去除掉特征之间的相关性，想法是创造另一组新的特征来描述样本，并且新的特征必须彼此之间不相关。\n",
    "\n",
    "二是，在新的彼此无关的特征集中，舍弃掉不重要的特征，保留较少的特征，实现数据的特征维度降维，保持尽量少的信息损失"
   ]
  },
  {
   "cell_type": "markdown",
   "metadata": {},
   "source": [
    "首先我们先回顾一下协方差的定义公式:\n",
    "$$\\operatorname{Cov}(X, Y)=\\frac{1}{n-1} \\sum_{1}^{n}\\left(x_{i}-\\mu\\right)\\left(y_{i}-v\\right)$$\n",
    "观察可以发现零值化处理后其离散程度不会发生改变，故减去其均值是一个非常好的处理方法"
   ]
  },
  {
   "cell_type": "markdown",
   "metadata": {},
   "source": [
    "经过零值化处理有：\n",
    "$$\\left[\\begin{array}{cc}\n",
    "V[X] & \\operatorname{Cov}[X, Y] \\\\\n",
    "\\operatorname{Cov}[Y, X] & V[Y]\n",
    "\\end{array}\\right]=\\left[\\begin{array}{cc}\n",
    "\\frac{1}{n-1} \\sum_{1}^{n} x_{i}^{2} & \\frac{1}{n-1} \\sum_{1}^{n} x_{i} y_{i} \\\\\n",
    "\\frac{1}{n-1} \\sum_{1}^{n} y_{i} x_{i} & \\frac{1}{n-1} \\sum_{1}^{n} y_{i}^{2}\n",
    "\\end{array}\\right]=\\frac{1}{n-1}\\left[\\begin{array}{cc}\n",
    "\\sum_{1}^{n} x_{i}^{2} & \\sum_{1}^{n} x_{i} y_{i} \\\\\n",
    "\\sum_{1}^{n} y_{i} x_{i} & \\sum_{1}^{n} y_{i}^{2}\n",
    "\\end{array}\\right]$$\n",
    "重点观察矩阵\n",
    "$\\left[\\begin{array}{cc}\n",
    "\\sum_{1}^{n} x_{i}^{2} & \\sum_{1}^{n} x_{i} y_{i} \\\\\n",
    "\\sum_{1}^{n} y_{i} x_{i} & \\sum_{1}^{n} y_{i}^{2}\n",
    "\\end{array}\\right]$有\n",
    "$$C=A A^{T} \\Rightarrow\\left[\\begin{array}{ccccccc}\n",
    "\\sum_{1}^{n} x_{i}^{2} & \\sum_{1}^{n} x_{i} y_{i} \\\\\n",
    "\\sum_{1}^{n} y_{i} x_{i} & \\sum_{1}^{n} y_{i}^{2}\n",
    "\\end{array}\\right]=\\left[\\begin{array}{ccccc}\n",
    "x_{1} & x_{2} & x_{3} & \\ldots & x_{n} \\\\\n",
    "y_{1} & y_{2} & y_{3} & \\ldots & y_{n}\n",
    "\\end{array}\\right]\\left[\\begin{array}{cc}\n",
    "x_{1} & y_{1} \\\\\n",
    "x_{2} & y_{2} \\\\\n",
    "x_{3} & y_{3} \\\\\n",
    "\\ldots & \\ldots \\\\\n",
    "x_{n} & y_{n}\n",
    "\\end{array}\\right]$$"
   ]
  },
  {
   "cell_type": "markdown",
   "metadata": {},
   "source": [
    "新的基底$p_1和p_2$,模长为1，且二者正交，向量$a=\\left[\\begin{array}{l}x_{1} \\\\ y_{1}\\end{array}\\right]$与向量$p_i$的点积就表示向量a在$p_i$方向上的投影，同时由于$p_i$是单位向量，那么点积的结果就代表了向量的坐标。$\\left[\\begin{array}{l}p_1^Ta \\\\ p_2^Ta\\end{array}\\right]$,令$P=\\left[\\begin{array}{l}p_1^T \\\\ p_2^T\\end{array}\\right]$，则有新坐标$Pa$"
   ]
  },
  {
   "cell_type": "markdown",
   "metadata": {},
   "source": [
    "$$A=\\left[\\begin{array}{lllll}x_{1} & x_{2} & x_{3} & \\ldots & x_{n} \\\\ y_{1} & y_{2} & y_{3} & \\ldots & y_{n}\\end{array}\\right]$$为原始的坐标，而新基底下的坐标为第一特征和第二特征分别为$$\\left[\\begin{array}{ccccc}p_{1}^{T} a_{1} & p_{1}^{T} a_{2} & p_{1}^{T} a_{3} & \\ldots & p_{1}^{T} a_{n} \\\\ p_{2}^{T} a_{1} & p_{2}^{T} a_{2} & p_{2}^{T} a_{3} & \\ldots & p_{2}^{T} a_{n}\\end{array}\\right]$$"
   ]
  },
  {
   "cell_type": "markdown",
   "metadata": {},
   "source": [
    "为使其线性无关，则其协方差阵对角元为0，则有\n",
    "$$D=\\frac{1}{n-1} P A(P A)^{T}=\\frac{1}{n-1} P A A^{T} P^{T}=\\frac{1}{n-1} P C P^{T}$$\n",
    "寻找P，使得矩阵$C=AA^T$能够对角化，D为对角化后的矩阵"
   ]
  },
  {
   "cell_type": "code",
   "execution_count": 2,
   "metadata": {},
   "outputs": [
    {
     "name": "stdout",
     "output_type": "stream",
     "text": [
      "[[-2. -2.  0.  4.  0.]\n",
      " [-4.  0.  0.  2.  2.]]\n",
      "[[6. 4.]\n",
      " [4. 6.]]\n"
     ]
    }
   ],
   "source": [
    "import numpy as np \n",
    "x = [2,2,4,8,4]\n",
    "y = [2,6,6,8,8]\n",
    "x = x - np.mean(x)\n",
    "y = y - np.mean(y)\n",
    "S = np.vstack((x,y))\n",
    "print(S)\n",
    "print(np.cov(S))"
   ]
  },
  {
   "cell_type": "code",
   "execution_count": 4,
   "metadata": {},
   "outputs": [
    {
     "name": "stdout",
     "output_type": "stream",
     "text": [
      "[10.+0.j  2.+0.j] \n",
      " [[ 0.70710678 -0.70710678]\n",
      " [ 0.70710678  0.70710678]]\n"
     ]
    }
   ],
   "source": [
    "import numpy as np \n",
    "from scipy import linalg\n",
    "C = np.cov(S)\n",
    "evalue,evector = linalg.eig(C)\n",
    "print(evalue,'\\n',evector)"
   ]
  },
  {
   "cell_type": "markdown",
   "metadata": {},
   "source": [
    "由此，我们通过求协方差矩阵C的特征向量，得到了新选择的两个线性无关的特征投影基，协方差矩阵$C=\\left[\\begin{array}{ll}6 & 4 \\\\ 4 & 6\\end{array}\\right]_{\\text { }}$ 特征矩阵为$ Q=\\left[\\begin{array}{cc}0.707 & -0.707 \\\\ 0.707 & 0.707\\end{array}\\right]$"
   ]
  }
 ],
 "metadata": {
  "kernelspec": {
   "display_name": "Python 3",
   "language": "python",
   "name": "python3"
  },
  "language_info": {
   "codemirror_mode": {
    "name": "ipython",
    "version": 3
   },
   "file_extension": ".py",
   "mimetype": "text/x-python",
   "name": "python",
   "nbconvert_exporter": "python",
   "pygments_lexer": "ipython3",
   "version": "3.7.4"
  }
 },
 "nbformat": 4,
 "nbformat_minor": 2
}
