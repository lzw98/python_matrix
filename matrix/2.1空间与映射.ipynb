{
 "cells": [
  {
   "cell_type": "markdown",
   "metadata": {},
   "source": [
    "- key:矩阵就是完成向量在不同空间之间的映射过程"
   ]
  },
  {
   "cell_type": "markdown",
   "metadata": {},
   "source": [
    "- 回顾前文，在默认基底所构成的空间中，矩阵与向量的乘法：$AX$，其本质就是变换原始向量的基底，将默认基底中的各个 向量分别对应的变换为矩阵A中的各个列，由矩阵A中的各列充当目标向量新的“基向量”。\n",
    "- 但是矩阵A的各个列向量作为原始向量x默认基底经过转换后得到的目标向量，由于其在维度和线性相关性方面存在着多种不同的情况，因此这组目标向量的张成空间和原始向量所在的空间之间，就会存在着多种不同的对应关系。"
   ]
  },
  {
   "cell_type": "markdown",
   "metadata": {},
   "source": [
    "### 降维\n",
    "- 矮胖矩阵($m\\times n $)($m<n$)对空间的压缩,由于($m<n$)的存在，这一组目标向量所能张成空间的维数最大就是m,这样位于n维空间中任意向量x，经过映射后，被转化到一个维数更低的空间中，故称之为压缩。"
   ]
  },
  {
   "cell_type": "markdown",
   "metadata": {},
   "source": [
    "- 但是这个压缩的过程仍然可能存在多种情况，所降维数可能仍然无法确定。"
   ]
  },
  {
   "cell_type": "markdown",
   "metadata": {},
   "source": [
    "### 高瘦矩阵\n",
    "- 其实还是考虑矩阵的秩"
   ]
  },
  {
   "cell_type": "markdown",
   "metadata": {},
   "source": [
    "### 方阵\n",
    "- 考虑其秩，是一样的\n"
   ]
  },
  {
   "cell_type": "markdown",
   "metadata": {},
   "source": [
    "# 如何用python来计算矩阵的秩\n",
    "- np.linalg.matrix_rank"
   ]
  },
  {
   "cell_type": "code",
   "execution_count": 1,
   "metadata": {
    "tags": []
   },
   "outputs": [
    {
     "output_type": "stream",
     "name": "stdout",
     "text": "2\n1\n2\n1\n3\n"
    }
   ],
   "source": [
    "import numpy as np\n",
    "A_1 = np.array([[1, 1, 0],\n",
    "              [1, 0, 1]])\n",
    "A_2 = np.array([[1, 2, -1],\n",
    "              [2, 4, -2]])\n",
    "A_3 = np.array([[1, 0],\n",
    "              [0, 1],\n",
    "              [0, -1]])\n",
    "A_4 = np.array([[1, 2],\n",
    "              [1, 2],\n",
    "              [-1, -2]])\n",
    "A_5 = np.array([[1, 1, 1],\n",
    "              [1, 1, 2],\n",
    "              [1, 2, 3]])\n",
    "print(np.linalg.matrix_rank(A_1))\n",
    "print(np.linalg.matrix_rank(A_2))\n",
    "print(np.linalg.matrix_rank(A_3))\n",
    "print(np.linalg.matrix_rank(A_4))\n",
    "print(np.linalg.matrix_rank(A_5))"
   ]
  },
  {
   "cell_type": "code",
   "execution_count": null,
   "metadata": {},
   "outputs": [],
   "source": []
  },
  {
   "cell_type": "code",
   "execution_count": null,
   "metadata": {},
   "outputs": [],
   "source": []
  }
 ],
 "metadata": {
  "language_info": {
   "codemirror_mode": {
    "name": "ipython",
    "version": 3
   },
   "file_extension": ".py",
   "mimetype": "text/x-python",
   "name": "python",
   "nbconvert_exporter": "python",
   "pygments_lexer": "ipython3",
   "version": 3
  },
  "orig_nbformat": 2,
  "kernelspec": {
   "name": "python_defaultSpec_1594618809510",
   "display_name": "Python 3.7.4 64-bit ('base': conda)"
  }
 },
 "nbformat": 4,
 "nbformat_minor": 2
}