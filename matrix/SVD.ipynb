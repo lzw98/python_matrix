{
 "metadata": {
  "language_info": {
   "codemirror_mode": {
    "name": "ipython",
    "version": 3
   },
   "file_extension": ".py",
   "mimetype": "text/x-python",
   "name": "python",
   "nbconvert_exporter": "python",
   "pygments_lexer": "ipython3",
   "version": 3
  },
  "orig_nbformat": 2,
  "kernelspec": {
   "name": "python_defaultSpec_1595075634370",
   "display_name": "Python 3.7.4 64-bit ('base': conda)"
  }
 },
 "nbformat": 4,
 "nbformat_minor": 2,
 "cells": [
  {
   "cell_type": "markdown",
   "metadata": {},
   "source": [
    "利用Python进行奇异值分解"
   ]
  },
  {
   "cell_type": "code",
   "execution_count": 2,
   "metadata": {
    "tags": []
   },
   "outputs": [
    {
     "output_type": "stream",
     "name": "stdout",
     "text": "U矩阵为：\n [[ 8.33888363e-17 -5.34522484e-01 -8.19688300e-01 -1.42578545e-02\n   1.17589781e-01 -1.68291600e-01  6.64076653e-03]\n [-5.27910020e-33 -8.01783726e-01  4.81453408e-01 -3.68497530e-03\n  -3.51336168e-01 -4.34953513e-02  1.71632139e-03]\n [ 0.00000000e+00 -2.67261242e-01  1.95016375e-01  3.95706349e-02\n   8.18828941e-01  4.67069254e-01 -1.84304972e-02]\n [-1.79605302e-01  4.55126095e-17  8.85078821e-02  8.82844675e-01\n   1.60750385e-01 -3.92953497e-01  1.55058983e-02]\n [-3.59210604e-01  6.56005654e-17  1.77015764e-01 -4.17392305e-01\n   3.21500770e-01 -6.18874662e-01 -4.23140914e-01]\n [-8.98026510e-01  1.48333183e-18 -1.06209459e-01  3.21272177e-02\n  -1.92900462e-01  3.79211394e-01 -1.49636365e-02]\n [-1.79605302e-01  3.28002827e-17  8.85078821e-02 -2.08696153e-01\n   1.60750385e-01 -2.65354150e-01  9.05594112e-01]]\nsigma矩阵为：\n [9.64365076e+00 5.29150262e+00 6.49628424e-16 1.43063514e-16\n 2.79192092e-17]\nVT矩阵为:\n [[-5.77350269e-01 -5.77350269e-01 -5.77350269e-01  0.00000000e+00\n   0.00000000e+00]\n [-1.70408510e-16  8.52042552e-17  8.52042552e-17 -7.07106781e-01\n  -7.07106781e-01]\n [-6.19518612e-01 -1.50835436e-01  7.70354049e-01  2.48999108e-16\n   1.37976805e-16]\n [-0.00000000e+00  8.56793076e-17 -8.56793076e-17  7.07106781e-01\n  -7.07106781e-01]\n [ 5.31848997e-01 -8.02443355e-01  2.70594358e-01  5.04241948e-17\n  -6.05981077e-17]]\n"
    }
   ],
   "source": [
    "import numpy as np\n",
    "A=[[0, 0, 0, 2, 2],\n",
    "   [0, 0, 0, 3, 3],\n",
    "   [0, 0, 0, 1, 1],\n",
    "   [1, 1, 1, 0, 0],\n",
    "   [2, 2, 2, 0, 0],\n",
    "   [5, 5, 5, 0, 0],\n",
    "   [1, 1, 1, 0, 0]]\n",
    "\n",
    "U, sigma, VT = np.linalg.svd(A)\n",
    "print('U矩阵为：\\n',U)\n",
    "print('sigma矩阵为：\\n',sigma)\n",
    "print('VT矩阵为:\\n',VT)"
   ]
  },
  {
   "cell_type": "code",
   "execution_count": 3,
   "metadata": {
    "tags": []
   },
   "outputs": [
    {
     "output_type": "stream",
     "name": "stdout",
     "text": "[[-5.56776436e+00 -5.56776436e+00 -5.56776436e+00  1.66777673e-16\n   1.66777673e-16]\n [ 2.16930682e-16  2.16930682e-16  2.16930682e-16 -3.74165739e+00\n  -3.74165739e+00]]\n[[ 0.00000000e+00 -2.82842712e+00]\n [ 0.00000000e+00 -4.24264069e+00]\n [ 0.00000000e+00 -1.41421356e+00]\n [-1.73205081e+00  1.23259516e-32]\n [-3.46410162e+00  2.46519033e-32]\n [-8.66025404e+00  4.93038066e-32]\n [-1.73205081e+00  1.23259516e-32]]\n"
    }
   ],
   "source": [
    "# 矩阵A的行数由7行压缩成了2行\n",
    "import numpy as np\n",
    "A=[[0, 0, 0, 2, 2],\n",
    "   [0, 0, 0, 3, 3],\n",
    "   [0, 0, 0, 1, 1],\n",
    "   [1, 1, 1, 0, 0],\n",
    "   [2, 2, 2, 0, 0],\n",
    "   [5, 5, 5, 0, 0],\n",
    "   [1, 1, 1, 0, 0]]\n",
    "U, sigma, VT = np.linalg.svd(A)\n",
    "U_T_2x7 = U.T[:2,:]\n",
    "print(np.dot(U_T_2x7,A))\n",
    "VT_2x5=VT[:2,:]\n",
    "print(np.dot(VT_2x5,np.mat(A).T).T)"
   ]
  },
  {
   "cell_type": "markdown",
   "metadata": {},
   "source": [
    "下面给出一个具体的SVD应用的实例，在推荐系统的使用"
   ]
  },
  {
   "cell_type": "markdown",
   "metadata": {},
   "source": [
    "所以下面的内容就是对矩阵进行一个行压缩(相当于得出某个菜品的客观合理的评价)，再利用这个行压缩阵对每个菜品与其他菜品的相似度sim(利用余弦方法)进行计算\n",
    "\n"
   ]
  },
  {
   "cell_type": "markdown",
   "metadata": {},
   "source": [
    "基本思想就是，利用该顾客已经评过分的菜品分值，来估计某个未评分菜品的分值，令我们要估计的菜品为$G_x$，该顾客已经评过分的菜品为$G_a,G_b,G_c$,,，评过的分数分别对应为:$Score_a,Score_b,Score_c$,，这三件菜品与$G_x$的相似度分别为:$sim_a,sim_b,sim_c$，由此，我们利用相似度加权的方式，来估计$G_x$的评分值$Score_x$，公式如下：$$\\text {Score}_{x}=\\frac{\\text {Score}_{a} \\cdot \\operatorname{sim}_{a}+\\text {Score}_{b} \\cdot \\operatorname{sim}_{b}+\\text {Score}_{c} \\cdot \\operatorname{sim}_{c}}{\\operatorname{sim}_{a}+\\operatorname{sim}_{b}+\\operatorname{sim}_{c}}$$"
   ]
  },
  {
   "cell_type": "code",
   "execution_count": 8,
   "metadata": {
    "tags": []
   },
   "outputs": [
    {
     "output_type": "stream",
     "name": "stdout",
     "text": "index:0,score:2.6347116715331165\nindex:4,score:2.9259893459771127\nindex:5,score:2.9337238848085887\nindex:8,score:2.965707317848275\nindex:9,score:2.9057073432965526\nindex:10,score:2.926348465526288\n"
    }
   ],
   "source": [
    "import numpy as np\n",
    "\n",
    "scoreData = np.mat([\n",
    "[5,2,1,4,0,0,2,4,0,0,0],\n",
    "[0,0,0,0,0,0,0,0,0,3,0],\n",
    "[1,0,5,2,0,0,3,0,3,0,1],\n",
    "[0,5,0,0,4,0,1,0,0,0,0],\n",
    "[0,0,0,0,0,4,0,0,0,4,0],\n",
    "[0,0,1,0,0,0,1,0,0,5,0],\n",
    "[5,0,2,4,2,1,0,3,0,1,0],\n",
    "[0,4,0,0,5,4,0,0,0,0,5],\n",
    "[0,0,0,0,0,0,4,0,4,5,0],\n",
    "[0,0,0,4,0,0,1,5,0,0,0],\n",
    "[0,0,0,0,4,5,0,0,0,0,3],\n",
    "[4,2,1,4,0,0,2,4,0,0,0],\n",
    "[0,1,4,1,2,1,5,0,5,0,0],\n",
    "[0,0,0,0,0,4,0,0,0,4,0],\n",
    "[2,5,0,0,4,0,0,0,0,0,0],\n",
    "[5,0,0,0,0,0,0,4,2,0,0],\n",
    "[0,2,4,0,4,3,4,0,0,0,0],\n",
    "[0,3,5,1,0,0,4,1,0,0,0]\n",
    "])\n",
    "\n",
    "#用于定义两个列向量之间的余弦相关度\n",
    "def cosSim(vec_1, vec_2):\n",
    "    dotProd = float(np.dot(vec_1.T, vec_2))\n",
    "    normProd = np.linalg.norm(vec_1)*np.linalg.norm(vec_2)\n",
    "    return (0.5+0.5*(dotProd/normProd))\n",
    "\n",
    "def estScore(scoreData,scoreDataRC,userIndex,itemIndex):\n",
    "    n = np.shape(scoreData)[1]\n",
    "    simSum = 0\n",
    "    simSumScore = 0\n",
    "    for i in range(n):\n",
    "        userScore = scoreData[userIndex,i]\n",
    "        if userScore == 0 or i == itemIndex:\n",
    "            continue\n",
    "        sim = cosSim(scoreDataRC[:, i], scoreDataRC[:, itemIndex])\n",
    "        simSum = float(simSum + sim)\n",
    "        simSumScore = simSumScore + userScore * sim\n",
    "    if simSum == 0:\n",
    "        return 0\n",
    "    return simSumScore / simSum\n",
    "\n",
    "U, sigma, VT = np.linalg.svd(scoreData)\n",
    "sigmaSum = 0\n",
    "k_num = 0\n",
    "\n",
    "for k in range(len(sigma)):\n",
    "    sigmaSum = sigmaSum + sigma[k] * sigma[k]#因为这边得到sigma矩阵其对角元素是开过根号的值，故这边要先平方\n",
    "    '''\n",
    "    奇异值的贡献度达到90%以达到压缩的目标\n",
    "    '''\n",
    "    if float(sigmaSum)/float(np.sum(sigma ** 2)) > 0.9:\n",
    "        k_num = k+1\n",
    "        break\n",
    "\n",
    "'''\n",
    "我们通过行压缩的方式，对矩阵进行行压缩，在行压缩的基础上，推荐算法中通常还需要再乘以奇异值方阵，赋予其对应的权重值，最终获取降维后规模为6×11行压缩矩阵scoreDataRC。\n",
    "'''\n",
    "\n",
    "sigma_K = np.mat(np.eye(k_num)*sigma[:k_num])\n",
    "scoreDataRC = sigma_K * U.T[:k_num, :] * scoreData\n",
    "n = np.shape(scoreData)[1]\n",
    "userIndex = 17\n",
    "\n",
    "for i in range(n):\n",
    "    userScore = scoreData[17, i]\n",
    "    if userScore != 0:\n",
    "        continue\n",
    "    print(\"index:{},score:{}\".format(i, estScore(scoreData, scoreDataRC, userIndex, i)))"
   ]
  },
  {
   "cell_type": "code",
   "execution_count": null,
   "metadata": {},
   "outputs": [],
   "source": []
  },
  {
   "cell_type": "code",
   "execution_count": null,
   "metadata": {},
   "outputs": [],
   "source": []
  }
 ]
}