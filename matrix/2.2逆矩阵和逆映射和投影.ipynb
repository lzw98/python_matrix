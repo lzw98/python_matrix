{
 "cells": [
  {
   "cell_type": "markdown",
   "metadata": {},
   "source": [
    "- 矮胖矩阵压缩空间，不存在逆映射\n",
    "- 高瘦矩阵不存在逆映射，目标空间无法全覆盖"
   ]
  },
  {
   "cell_type": "markdown",
   "metadata": {},
   "source": [
    "- 引入零化空间的概念，在映射的作用下满足Ax=0成立的向量x的集合，我们称为A的零空间，如果一个矩阵A存在逆映射，则意味着其映射后的点是要能被唯一还原的。\n",
    "- 因此，矩阵A的零空间对应的不能是一维直线或者是一个二维平面，而只能是一个点，也就是原始空间中的零向量，即如果一个矩阵满足可逆，他的零空间必须是0维的。"
   ]
  },
  {
   "cell_type": "markdown",
   "metadata": {},
   "source": [
    "- 要求方阵是可逆的"
   ]
  },
  {
   "cell_type": "markdown",
   "metadata": {},
   "source": [
    "首先考虑一个关于线性方程组解的问题，$\\left\\{\\begin{array}{l}2 x+y=4 \\\\ x+2 y=3 \\\\ x+4 y=9\\end{array}\\right.$，我们解这个线性方程组会发现其没有解，无解的原因是因为向量\n",
    "$\\left[\\begin{array}{l}4 \\\\ 3 \\\\ 9\\end{array}\\right]$不在矩阵$\\left[\\begin{array}{ll}2 & 1 \\\\ 1 & 2 \\\\ 1 & 4\\end{array}\\right]$的列空间中，所以我们尝试求解其近似解，使其尽可能满足"
   ]
  },
  {
   "cell_type": "markdown",
   "metadata": {},
   "source": [
    "点向线的投影不过多赘述，这里将投影问题拓展到二维平面，这里的二维平面是指空间任意一个穿过原点的二维平面"
   ]
  },
  {
   "cell_type": "markdown",
   "metadata": {},
   "source": [
    "设$a_1$，$a_2$为平面上的一组基，p为投影向量，e为垂直向量，b 为原向量，则有$a_{1} \\cdot e=0$,$a_2 \\cdot e = 0$,其中$e=b-p$，可以知道向量p为平面上的向量，故可以写成基底的线性组合$p=A \\hat{x}$"
   ]
  },
  {
   "cell_type": "markdown",
   "metadata": {},
   "source": [
    "$$a_{1} \\cdot e=0 \\Rightarrow a_{1} \\cdot(b-p) \\Rightarrow a_{1}^{T}(b-A \\hat{x})=0$$\n",
    "同理对应的也有:\n",
    "$$a_{2}^{T}(b-A \\hat{x})=0$$\n"
   ]
  },
  {
   "cell_type": "markdown",
   "metadata": {},
   "source": [
    "由此我们得到了一个关键结论$$A^{T}(b-A \\hat{x})=0 \\Rightarrow A^{T} A \\hat{x}=A^{T} b$$\n",
    "因此有$$\\hat{x}=\\left(A^{T} A\\right)^{-1} A^{T} b$$\n",
    "因此投影向量p的表示方法为：$$p=A \\hat{x}=A\\left(A^{T} A\\right)^{-1} A^{T} b$$"
   ]
  },
  {
   "cell_type": "markdown",
   "metadata": {},
   "source": [
    "在讨论$\\left(A^{T} A\\right)^{-1}$的可逆性时，我们可以选择用行列式的方法来进行讨论，且A的行列式肯定是不为0的"
   ]
  }
 ],
 "metadata": {
  "language_info": {
   "codemirror_mode": {
    "name": "ipython",
    "version": 3
   },
   "file_extension": ".py",
   "mimetype": "text/x-python",
   "name": "python",
   "nbconvert_exporter": "python",
   "pygments_lexer": "ipython3",
   "version": 3
  },
  "orig_nbformat": 2
 },
 "nbformat": 4,
 "nbformat_minor": 2
}